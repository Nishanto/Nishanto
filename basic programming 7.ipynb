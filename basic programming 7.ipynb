{
 "cells": [
  {
   "cell_type": "code",
   "execution_count": 4,
   "metadata": {},
   "outputs": [
    {
     "name": "stdout",
     "output_type": "stream",
     "text": [
      "Sum of the array is: \n",
      "15\n"
     ]
    }
   ],
   "source": [
    "# Q-1-Program to find sum of array\n",
    "arr = [1,2,3,4,5]\n",
    "ans = sum(arr)\n",
    "print ('Sum of the array is: ')\n",
    "print(ans)"
   ]
  },
  {
   "cell_type": "code",
   "execution_count": 5,
   "metadata": {},
   "outputs": [
    {
     "name": "stdout",
     "output_type": "stream",
     "text": [
      "Largest element given in array is 67\n"
     ]
    }
   ],
   "source": [
    "# Q-2-Python Program to find largest element in an array\n",
    "def largest(arr,n):\n",
    "   max = arr[0]\n",
    "   for i in range(1, n):\n",
    "      if arr[i] > max:\n",
    "         max = arr[i]\n",
    "   return max\n",
    "\n",
    "arr = [23,1,32,67,2,34,12]\n",
    "n = len(arr)\n",
    "Ans = largest(arr,n)\n",
    "print (\"Largest element given in array is\",Ans)"
   ]
  },
  {
   "cell_type": "code",
   "execution_count": 6,
   "metadata": {},
   "outputs": [
    {
     "name": "stdout",
     "output_type": "stream",
     "text": [
      "Array after left rotation is:  [3, 4, 5, 6, 7, 1, 2]\n"
     ]
    }
   ],
   "source": [
    "# Q-3-Python Program for array rotation\n",
    "def rotateArray(arr, n, d):\n",
    "    temp = []\n",
    "    i = 0\n",
    "    while (i < d):\n",
    "        temp.append(arr[i])\n",
    "        i = i + 1\n",
    "    i = 0\n",
    "    while (d < n):\n",
    "        arr[i] = arr[d]\n",
    "        i = i + 1\n",
    "        d = d + 1\n",
    "    arr[:] = arr[: i] + temp\n",
    "    return arr\n",
    " \n",
    " \n",
    "\n",
    "arr = [1, 2, 3, 4, 5, 6, 7]\n",
    "print(\"Array after left rotation is: \", end=' ')\n",
    "print(rotateArray(arr, len(arr), 2))"
   ]
  },
  {
   "cell_type": "code",
   "execution_count": 11,
   "metadata": {},
   "outputs": [
    {
     "name": "stdout",
     "output_type": "stream",
     "text": [
      "The list is :\n",
      "[34, 42, 56, 78, 9, 0, 23]\n",
      "The split_list method is being called\n",
      "78,9,0,23,34,42,56,"
     ]
    }
   ],
   "source": [
    "# Q-4- Python Program to Split the array and add the first part to the end\n",
    "def split_list(my_list, n_val, k_val):\n",
    "   for i in range(0, k_val):\n",
    "      first_val = my_list[0]\n",
    "      for k in range(0, n_val-1):\n",
    "         my_list[k] = my_list[k + 1]\n",
    "      my_list[n_val-1] = first_val\n",
    "my_list = [34, 42, 56, 78, 9, 0, 23]\n",
    "list_len = len(my_list)\n",
    "pos = 3\n",
    "print(\"The list is :\")\n",
    "print(my_list)\n",
    "print(\"The split_list method is being called\")\n",
    "split_list(my_list, list_len, pos)\n",
    "for i in range(0, list_len):\n",
    "    print(my_list[i],end=',')"
   ]
  },
  {
   "cell_type": "code",
   "execution_count": 12,
   "metadata": {},
   "outputs": [
    {
     "name": "stdout",
     "output_type": "stream",
     "text": [
      "True\n"
     ]
    }
   ],
   "source": [
    "# Q-5-Python Program to check if given array is Monotonic\n",
    "def isMonotonic(X):\n",
    "   return (all(X[i] <= X[i + 1] for i in range(len(X) - 1)) or\n",
    "      all(X[i] >= X[i + 1] for i in range(len(X) - 1)))\n",
    "\n",
    "X = [1,2,3,4,7,8]\n",
    "print(isMonotonic(X))"
   ]
  },
  {
   "cell_type": "code",
   "execution_count": null,
   "metadata": {},
   "outputs": [],
   "source": []
  }
 ],
 "metadata": {
  "kernelspec": {
   "display_name": "Python 3",
   "language": "python",
   "name": "python3"
  },
  "language_info": {
   "codemirror_mode": {
    "name": "ipython",
    "version": 3
   },
   "file_extension": ".py",
   "mimetype": "text/x-python",
   "name": "python",
   "nbconvert_exporter": "python",
   "pygments_lexer": "ipython3",
   "version": "3.8.5"
  }
 },
 "nbformat": 4,
 "nbformat_minor": 4
}
