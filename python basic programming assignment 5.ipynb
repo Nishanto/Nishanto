{
 "cells": [
  {
   "cell_type": "code",
   "execution_count": 2,
   "metadata": {},
   "outputs": [
    {
     "name": "stdout",
     "output_type": "stream",
     "text": [
      "The L.C.M. is 216\n"
     ]
    }
   ],
   "source": [
    "# Q-1- find LCM \n",
    "  \n",
    "def compute_lcm(x, y):\n",
    "   if x > y:\n",
    "       greater = x\n",
    "   else:\n",
    "       greater = y\n",
    "\n",
    "   while(True):\n",
    "       if((greater % x == 0) and (greater % y == 0)):\n",
    "           lcm = greater\n",
    "           break\n",
    "       greater += 1\n",
    "\n",
    "   return lcm\n",
    "\n",
    "num1 = 54\n",
    "num2 = 24\n",
    "\n",
    "print(\"The L.C.M. is\", compute_lcm(num1, num2))"
   ]
  },
  {
   "cell_type": "code",
   "execution_count": 4,
   "metadata": {},
   "outputs": [
    {
     "name": "stdout",
     "output_type": "stream",
     "text": [
      "The H.C.F. is 6\n"
     ]
    }
   ],
   "source": [
    "# Q-2-find hcf\n",
    "def compute_hcf(x, y):\n",
    "    if x > y:\n",
    "        smaller = y\n",
    "    else:\n",
    "        smaller = x\n",
    "    for i in range(1, smaller+1):\n",
    "        if((x % i == 0) and (y % i == 0)):\n",
    "            hcf = i \n",
    "    return hcf\n",
    "\n",
    "num1 = 54 \n",
    "num2 = 24\n",
    "\n",
    "print(\"The H.C.F. is\", compute_hcf(num1,num2))"
   ]
  },
  {
   "cell_type": "code",
   "execution_count": 5,
   "metadata": {},
   "outputs": [
    {
     "name": "stdout",
     "output_type": "stream",
     "text": [
      "Please Enter the Decimal Number = 8\n",
      "8  Decimal =  0b1000 Binary Value\n",
      "8  Decimal =  0o10 Octal Value\n",
      "8  Decimal =  0x8 Hexadecimal Value\n"
     ]
    }
   ],
   "source": [
    "# Q-3- Decimal to Binary, octal, and Hexadecimal\n",
    "decimal = int(input(\"Please Enter the Decimal Number = \"))\n",
    "\n",
    "binary = bin(decimal)\n",
    "octal = oct(decimal)\n",
    "hexadecimal = hex(decimal)\n",
    "\n",
    "print(decimal, \" Decimal = \", binary, \"Binary Value\")\n",
    "print(decimal, \" Decimal = \", octal, \"Octal Value\")\n",
    "print(decimal, \" Decimal = \", hexadecimal, \"Hexadecimal Value\")"
   ]
  },
  {
   "cell_type": "code",
   "execution_count": 6,
   "metadata": {},
   "outputs": [
    {
     "name": "stdout",
     "output_type": "stream",
     "text": [
      "Please enter any Character  :  g\n",
      "The ASCII Value of g = 103\n"
     ]
    }
   ],
   "source": [
    "# Q-4-ASCII value\n",
    "ch = input(\"Please enter any Character  :  \")\n",
    "\n",
    "print(\"The ASCII Value of %c = %d\" %(ch, ord(ch)))"
   ]
  },
  {
   "cell_type": "code",
   "execution_count": 9,
   "metadata": {},
   "outputs": [
    {
     "name": "stdout",
     "output_type": "stream",
     "text": [
      "Select an operation.\n",
      "+\n",
      "-\n",
      "*\n",
      "/\n",
      "Enter operator to use:+\n",
      "Enter first number: 78\n",
      "Enter second number: 87\n",
      "78 + 87 = 165\n"
     ]
    }
   ],
   "source": [
    "# Q-5-calculator\n",
    "# This function performs additiion\n",
    "def add(a, b):\n",
    "   return a + b\n",
    "# This function performs subtraction\n",
    "def subtract(a, b):\n",
    "   return a - b\n",
    "# This function performs multiplication\n",
    "def multiply(a, b):\n",
    "   return a * b\n",
    "# This function performs division\n",
    "def divide(a, b):\n",
    "    return a / b\n",
    "print(\"Select an operation.\")\n",
    "print(\"+\")\n",
    "print(\"-\")\n",
    "print(\"*\")\n",
    "print(\"/\")\n",
    "# User input\n",
    "choice = input(\"Enter operator to use:\")\n",
    "A = int(input(\"Enter first number: \"))\n",
    "B = int(input(\"Enter second number: \"))\n",
    "if choice == '+':\n",
    "   print(A,\"+\",B,\"=\", add(A,B))\n",
    "elif choice == '-':\n",
    "   print(A,\"-\",B,\"=\", subtract(A,B))\n",
    "elif choice == '*':\n",
    "   print(A,\"*\",B,\"=\", multiply(A,B))\n",
    "elif choice == '/':\n",
    "   print(A,\"/\",B,\"=\", divide(A,B))\n",
    "else:\n",
    "    print(\"Invalid input\")"
   ]
  },
  {
   "cell_type": "code",
   "execution_count": null,
   "metadata": {},
   "outputs": [],
   "source": []
  }
 ],
 "metadata": {
  "kernelspec": {
   "display_name": "Python 3",
   "language": "python",
   "name": "python3"
  },
  "language_info": {
   "codemirror_mode": {
    "name": "ipython",
    "version": 3
   },
   "file_extension": ".py",
   "mimetype": "text/x-python",
   "name": "python",
   "nbconvert_exporter": "python",
   "pygments_lexer": "ipython3",
   "version": "3.8.5"
  }
 },
 "nbformat": 4,
 "nbformat_minor": 4
}
