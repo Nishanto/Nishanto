{
 "cells": [
  {
   "cell_type": "code",
   "execution_count": 5,
   "metadata": {},
   "outputs": [
    {
     "name": "stdout",
     "output_type": "stream",
     "text": [
      "enter a number :10\n",
      "Factorail of  10  is :  3628800\n"
     ]
    }
   ],
   "source": [
    "# Q-1\n",
    "n = int(input('enter a number :'))\n",
    "factorial = 1\n",
    "if int(n) >= 1:\n",
    "    for i in range (1,int(n)+1):\n",
    "       factorial = factorial * i\n",
    "    print(\"Factorail of \",n , \" is : \",factorial)"
   ]
  },
  {
   "cell_type": "code",
   "execution_count": 15,
   "metadata": {},
   "outputs": [
    {
     "name": "stdout",
     "output_type": "stream",
     "text": [
      "enter a number :10\n",
      "1*10=10\n",
      "2*10=20\n",
      "3*10=30\n",
      "4*10=40\n",
      "5*10=50\n",
      "6*10=60\n",
      "7*10=70\n",
      "8*10=80\n",
      "9*10=90\n",
      "10*10=100\n"
     ]
    }
   ],
   "source": [
    "# Q-2 - display multipication table\n",
    "n = int(input('enter a number :'))\n",
    "for i in range(1,n+1):\n",
    "    number=n*i\n",
    "    print('{0}*{1}={2}'.format(i,n,n*i))\n"
   ]
  },
  {
   "cell_type": "code",
   "execution_count": 18,
   "metadata": {},
   "outputs": [
    {
     "name": "stdout",
     "output_type": "stream",
     "text": [
      "enter a number :10\n",
      "0,1,1,2,3,5,8,13,21,34,"
     ]
    }
   ],
   "source": [
    "#Q-3- fibonacci series\n",
    "n = int(input('enter a number :'))\n",
    "i=0\n",
    "first_value=0\n",
    "second_value=1\n",
    "while i<n:\n",
    "    if i <=1:\n",
    "        next=i\n",
    "    else:\n",
    "        next=first_value+second_value\n",
    "        first_value=second_value\n",
    "        second_value=next\n",
    "    print(next,end=',')\n",
    "    i=i+1"
   ]
  },
  {
   "cell_type": "code",
   "execution_count": 27,
   "metadata": {},
   "outputs": [
    {
     "name": "stdout",
     "output_type": "stream",
     "text": [
      "enter a number :153\n",
      "153 is a armstrong\n"
     ]
    }
   ],
   "source": [
    "# Q-4-check armstrong number\n",
    "n = int(input('enter a number :'))\n",
    "sum=0\n",
    "times=0\n",
    "Temp=n\n",
    "while Temp>0:\n",
    "    times+=1\n",
    "    Temp//=10\n",
    "Temp=n    \n",
    "while Temp>0:\n",
    "    remainder=Temp%10\n",
    "    sum = sum + (remainder**times)\n",
    "    Temp//=10\n",
    "    \n",
    "if (n==sum):\n",
    "        print(n, 'is a armstrong')\n",
    "else:\n",
    "        print(n,'not a armstrong')\n",
    "    "
   ]
  },
  {
   "cell_type": "code",
   "execution_count": 31,
   "metadata": {},
   "outputs": [
    {
     "name": "stdout",
     "output_type": "stream",
     "text": [
      " Enter the Minimum Value: 10\n",
      " Enter the Maximum Value: 10000\n",
      "153,370,371,407,1634,8208,9474,"
     ]
    }
   ],
   "source": [
    "# Q-5-armstrong number in an interval\n",
    "Min = int(input(\" Enter the Minimum Value: \"))\n",
    "Max = int(input(\" Enter the Maximum Value: \"))\n",
    "\n",
    "for Number in range(Min, Max + 1):\n",
    "           Sum = 0\n",
    "           Times = 0\n",
    "           Temp = Number\n",
    "           while Temp > 0:\n",
    "                      Times += 1\n",
    "                      Temp//=10\n",
    "           Temp = Number\n",
    "           while Temp > 0:\n",
    "                      Reminder = Temp % 10\n",
    "                      Sum = Sum + (Reminder ** Times)\n",
    "                      Temp //= 10\n",
    "           if Number == Sum:\n",
    "                      print(Number,end=',')"
   ]
  },
  {
   "cell_type": "code",
   "execution_count": 37,
   "metadata": {},
   "outputs": [
    {
     "name": "stdout",
     "output_type": "stream",
     "text": [
      "enter a number :3\n",
      "6\n"
     ]
    }
   ],
   "source": [
    "# Q-6-sum of natural numbers\n",
    "n = int(input('enter a number :'))\n",
    "s=0\n",
    "for i in range(n+1):\n",
    "    s=s+i\n",
    "print(s)"
   ]
  },
  {
   "cell_type": "code",
   "execution_count": null,
   "metadata": {},
   "outputs": [],
   "source": []
  },
  {
   "cell_type": "code",
   "execution_count": null,
   "metadata": {},
   "outputs": [],
   "source": []
  }
 ],
 "metadata": {
  "kernelspec": {
   "display_name": "Python 3",
   "language": "python",
   "name": "python3"
  },
  "language_info": {
   "codemirror_mode": {
    "name": "ipython",
    "version": 3
   },
   "file_extension": ".py",
   "mimetype": "text/x-python",
   "name": "python",
   "nbconvert_exporter": "python",
   "pygments_lexer": "ipython3",
   "version": "3.8.5"
  }
 },
 "nbformat": 4,
 "nbformat_minor": 4
}
