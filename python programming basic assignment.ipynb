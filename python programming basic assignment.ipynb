{
 "cells": [
  {
   "cell_type": "markdown",
   "metadata": {},
   "source": [
    "# Programming Assignment 1"
   ]
  },
  {
   "cell_type": "code",
   "execution_count": 1,
   "metadata": {},
   "outputs": [
    {
     "name": "stdout",
     "output_type": "stream",
     "text": [
      "Hello Python\n"
     ]
    }
   ],
   "source": [
    "# Q-1\n",
    "print(\"Hello Python\")"
   ]
  },
  {
   "cell_type": "code",
   "execution_count": 5,
   "metadata": {},
   "outputs": [
    {
     "name": "stdout",
     "output_type": "stream",
     "text": [
      "9\n",
      "30\n",
      "30.0\n"
     ]
    }
   ],
   "source": [
    "# Q-2\n",
    "#add\n",
    "x=4\n",
    "y=5\n",
    "print(x+y)\n",
    "\n",
    "# divide\n",
    "x=90\n",
    "y=3\n",
    "print(x//y) \n",
    "print(x/y) #floor division"
   ]
  },
  {
   "cell_type": "code",
   "execution_count": 7,
   "metadata": {},
   "outputs": [
    {
     "name": "stdout",
     "output_type": "stream",
     "text": [
      "204.0\n"
     ]
    }
   ],
   "source": [
    "# Q-3\n",
    "# area of triangle = 1/2*base(b)*height(h)\n",
    "b = 12\n",
    "h = 34\n",
    "area = 1/2*b*h\n",
    "print(area)"
   ]
  },
  {
   "cell_type": "code",
   "execution_count": 9,
   "metadata": {},
   "outputs": [
    {
     "name": "stdout",
     "output_type": "stream",
     "text": [
      "7,5\n"
     ]
    }
   ],
   "source": [
    "# Q-4\n",
    "a=5\n",
    "b=7\n",
    "a,b=b,a\n",
    "print(a,b,sep=',')"
   ]
  },
  {
   "cell_type": "code",
   "execution_count": 26,
   "metadata": {},
   "outputs": [
    {
     "name": "stdout",
     "output_type": "stream",
     "text": [
      "9 ,15 ,16 ,2 ,19 ,24 ,23 ,12 ,19 ,11 ,13 ,18 ,"
     ]
    }
   ],
   "source": [
    "# Q-5\n",
    "# generate 12 random  number\n",
    "import random\n",
    "for i in range (0,12):\n",
    "    x = random.randint(0,24)\n",
    "    print(x,end=' ,')\n",
    "    "
   ]
  },
  {
   "cell_type": "code",
   "execution_count": null,
   "metadata": {},
   "outputs": [],
   "source": []
  },
  {
   "cell_type": "code",
   "execution_count": null,
   "metadata": {},
   "outputs": [],
   "source": []
  }
 ],
 "metadata": {
  "kernelspec": {
   "display_name": "Python 3",
   "language": "python",
   "name": "python3"
  },
  "language_info": {
   "codemirror_mode": {
    "name": "ipython",
    "version": 3
   },
   "file_extension": ".py",
   "mimetype": "text/x-python",
   "name": "python",
   "nbconvert_exporter": "python",
   "pygments_lexer": "ipython3",
   "version": "3.8.5"
  }
 },
 "nbformat": 4,
 "nbformat_minor": 4
}
