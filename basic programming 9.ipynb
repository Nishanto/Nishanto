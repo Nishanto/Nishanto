{
 "cells": [
  {
   "cell_type": "code",
   "execution_count": 1,
   "metadata": {},
   "outputs": [
    {
     "name": "stdout",
     "output_type": "stream",
     "text": [
      "A copy of the original number is being made...\n",
      "192 isn't a disarium number\n"
     ]
    }
   ],
   "source": [
    "# Q-1-Python program to check if the given number is a Disarium Number\n",
    "def length_calculation(num_val):\n",
    "   length = 0\n",
    "   while(num_val != 0):\n",
    "      length = length + 1\n",
    "      num_val = num_val//10\n",
    "   return length\n",
    "my_num = 192\n",
    "remaining = sum_val = 0\n",
    "len_val = length_calculation(my_num)\n",
    "print(\"A copy of the original number is being made...\")\n",
    "num_val = my_num\n",
    "while(my_num > 0):\n",
    "   remaining = my_num%10\n",
    "   sum_val = sum_val + int(remaining**len_val)\n",
    "   my_num = my_num//10\n",
    "   len_val = len_val - 1\n",
    "if(sum_val == num_val):\n",
    "   print(str(num_val) + \" is a disarium number !\")\n",
    "else:\n",
    "   print(str(num_val) + \" isn't a disarium number\")"
   ]
  },
  {
   "cell_type": "code",
   "execution_count": 3,
   "metadata": {},
   "outputs": [
    {
     "name": "stdout",
     "output_type": "stream",
     "text": [
      "The disarium numbers between 1 and 100 are : \n",
      "1,2,3,4,5,6,7,8,9,89,"
     ]
    }
   ],
   "source": [
    "# Q-2-\n",
    "def length_calculation(my_val):\n",
    "   len_val = 0\n",
    "   while(my_val != 0):\n",
    "      len_val = len_val + 1\n",
    "      my_val = my_val//10\n",
    "   return len_val\n",
    "def digit_sum(my_num):\n",
    "   remaining = sum_val = 0\n",
    "   len_fun = length_calculation(my_num)\n",
    "   while(my_num > 0):\n",
    "      remaining = my_num%10\n",
    "      sum_val = sum_val + (remaining**len_fun)\n",
    "      my_num = my_num//10\n",
    "      len_fun = len_fun - 1\n",
    "   return sum_val\n",
    "ini_result = 0\n",
    "print(\"The disarium numbers between 1 and 100 are : \")\n",
    "for i in range(1, 101):\n",
    "   ini_result = digit_sum(i)\n",
    "   if(ini_result == i):\n",
    "      print(i,end=',')\n",
    "    "
   ]
  },
  {
   "cell_type": "code",
   "execution_count": 5,
   "metadata": {},
   "outputs": [
    {
     "name": "stdout",
     "output_type": "stream",
     "text": [
      "The number is being checked\n",
      "86 is a happy number\n"
     ]
    }
   ],
   "source": [
    "# Q-3-\n",
    "def check_happy_num(my_num):\n",
    "   remaining = sum_val = 0\n",
    "   while(my_num > 0):\n",
    "      remaining = my_num%10\n",
    "      sum_val = sum_val + (remaining*remaining)\n",
    "      my_num = my_num//10\n",
    "   return sum_val;\n",
    "my_num = 86\n",
    "my_result = my_num\n",
    "while(my_result != 1 and my_result != 4):\n",
    "   my_result = check_happy_num(my_result);\n",
    "print(\"The number is being checked\")\n",
    "if(my_result == 1):\n",
    "   print(str(my_num) + \" is a happy number\");\n",
    "elif(my_result == 4):\n",
    "   print(str(my_num) + \" isn't a happy number\");"
   ]
  },
  {
   "cell_type": "code",
   "execution_count": 7,
   "metadata": {},
   "outputs": [
    {
     "name": "stdout",
     "output_type": "stream",
     "text": [
      "The list of happy numbers between 1 and 100 are : \n",
      "1,7,10,13,19,23,28,31,32,44,49,68,70,79,82,86,91,94,97,100,"
     ]
    }
   ],
   "source": [
    "# Q -4- happy number btw 1 to 100\n",
    "def check_happy_num(my_num):\n",
    "   remaining = sum_val = 0\n",
    "   while(my_num > 0):\n",
    "      remaining = my_num%10\n",
    "      sum_val = sum_val + (remaining*remaining)\n",
    "      my_num = my_num//10\n",
    "   return sum_val\n",
    "print(\"The list of happy numbers between 1 and 100 are : \")\n",
    "for i in range(1, 101):\n",
    "   my_result = i\n",
    "   while(my_result != 1 and my_result != 4):\n",
    "      my_result = check_happy_num(my_result)\n",
    "   if(my_result == 1):\n",
    "      print(i,end=',')\n"
   ]
  },
  {
   "cell_type": "code",
   "execution_count": 8,
   "metadata": {},
   "outputs": [
    {
     "name": "stdout",
     "output_type": "stream",
     "text": [
      "A copy of the number to be checked is being made...\n",
      "134 isn't a Harshad number\n"
     ]
    }
   ],
   "source": [
    "# Q-5-Python program to determine whether the given number is a Harshad Number\n",
    "my_num = 134\n",
    "remaining = sum_val = 0\n",
    "print(\"A copy of the number to be checked is being made...\")\n",
    "my_num_copy = my_num;\n",
    "while(my_num > 0):\n",
    "   remaining = my_num%10;\n",
    "   sum_val = sum_val + remaining;\n",
    "   my_num = my_num//10;\n",
    "if(my_num_copy % sum_val == 0):\n",
    "   print(str(my_num_copy) + \" is a Harshad number\");\n",
    "else:\n",
    "   print(str(my_num_copy) + \" isn't a Harshad number\");"
   ]
  },
  {
   "cell_type": "code",
   "execution_count": 13,
   "metadata": {},
   "outputs": [
    {
     "name": "stdout",
     "output_type": "stream",
     "text": [
      "Pronic numbers between 1 and 100: \n",
      "2\n",
      " \n",
      "6\n",
      " \n",
      "12\n",
      " \n",
      "20\n",
      " \n",
      "30\n",
      " \n",
      "42\n",
      " \n",
      "56\n",
      " \n",
      "72\n",
      " \n",
      "90\n",
      " \n"
     ]
    }
   ],
   "source": [
    "# Q-6-Python program to print all pronic numbers between 1 and 100\n",
    "def isPronicNumber(num):    \n",
    "    flag = False;    \n",
    "        \n",
    "    for j in range(1, num+1):    \n",
    "        #Checks for pronic number by multiplying consecutive numbers    \n",
    "        if((j*(j+1)) == num):    \n",
    "            flag = True;    \n",
    "            break;    \n",
    "    return flag;    \n",
    "     \n",
    "#Displays pronic numbers between 1 and 100    \n",
    "print(\"Pronic numbers between 1 and 100: \");    \n",
    "for i in range(1, 101):    \n",
    "    if(isPronicNumber(i)):    \n",
    "        print(i),    \n",
    "        print(\" \")"
   ]
  },
  {
   "cell_type": "code",
   "execution_count": null,
   "metadata": {},
   "outputs": [],
   "source": []
  }
 ],
 "metadata": {
  "kernelspec": {
   "display_name": "Python 3",
   "language": "python",
   "name": "python3"
  },
  "language_info": {
   "codemirror_mode": {
    "name": "ipython",
    "version": 3
   },
   "file_extension": ".py",
   "mimetype": "text/x-python",
   "name": "python",
   "nbconvert_exporter": "python",
   "pygments_lexer": "ipython3",
   "version": "3.8.5"
  }
 },
 "nbformat": 4,
 "nbformat_minor": 4
}
